{
  "nbformat": 4,
  "nbformat_minor": 0,
  "metadata": {
    "colab": {
      "name": "kaggle_lower_backpain.ipynb",
      "provenance": [],
      "collapsed_sections": []
    },
    "kernelspec": {
      "name": "python3",
      "display_name": "Python 3"
    }
  },
  "cells": [
    {
      "cell_type": "code",
      "metadata": {
        "id": "lbyvMR1GiB5h",
        "colab_type": "code",
        "colab": {}
      },
      "source": [
        "import numpy as np\n",
        "import pandas as pd\n",
        "import seaborn as sns\n",
        "import matplotlib.pyplot as plt\n",
        "\n",
        "import torch\n",
        "import torch.nn as nn\n",
        "import torch.optim as optim\n",
        "from torch.utils.data import Dataset, DataLoader\n",
        "\n",
        "from sklearn.preprocessing import StandardScaler    \n",
        "from sklearn.model_selection import train_test_split\n",
        "from sklearn.metrics import confusion_matrix, classification_report"
      ],
      "execution_count": null,
      "outputs": []
    },
    {
      "cell_type": "code",
      "metadata": {
        "id": "nVvwgqwki-5u",
        "colab_type": "code",
        "colab": {
          "base_uri": "https://localhost:8080/",
          "height": 262
        },
        "outputId": "ce508c7f-d360-4116-b329-4df7f3531296"
      },
      "source": [
        "df = pd.read_csv(\"/content/Dataset_spine.csv\")\n",
        "df.head()"
      ],
      "execution_count": null,
      "outputs": [
        {
          "output_type": "execute_result",
          "data": {
            "text/html": [
              "<div>\n",
              "<style scoped>\n",
              "    .dataframe tbody tr th:only-of-type {\n",
              "        vertical-align: middle;\n",
              "    }\n",
              "\n",
              "    .dataframe tbody tr th {\n",
              "        vertical-align: top;\n",
              "    }\n",
              "\n",
              "    .dataframe thead th {\n",
              "        text-align: right;\n",
              "    }\n",
              "</style>\n",
              "<table border=\"1\" class=\"dataframe\">\n",
              "  <thead>\n",
              "    <tr style=\"text-align: right;\">\n",
              "      <th></th>\n",
              "      <th>Col1</th>\n",
              "      <th>Col2</th>\n",
              "      <th>Col3</th>\n",
              "      <th>Col4</th>\n",
              "      <th>Col5</th>\n",
              "      <th>Col6</th>\n",
              "      <th>Col7</th>\n",
              "      <th>Col8</th>\n",
              "      <th>Col9</th>\n",
              "      <th>Col10</th>\n",
              "      <th>Col11</th>\n",
              "      <th>Col12</th>\n",
              "      <th>Class_att</th>\n",
              "      <th>Unnamed: 13</th>\n",
              "    </tr>\n",
              "  </thead>\n",
              "  <tbody>\n",
              "    <tr>\n",
              "      <th>0</th>\n",
              "      <td>63.027818</td>\n",
              "      <td>22.552586</td>\n",
              "      <td>39.609117</td>\n",
              "      <td>40.475232</td>\n",
              "      <td>98.672917</td>\n",
              "      <td>-0.254400</td>\n",
              "      <td>0.744503</td>\n",
              "      <td>12.5661</td>\n",
              "      <td>14.5386</td>\n",
              "      <td>15.30468</td>\n",
              "      <td>-28.658501</td>\n",
              "      <td>43.5123</td>\n",
              "      <td>Abnormal</td>\n",
              "      <td>NaN</td>\n",
              "    </tr>\n",
              "    <tr>\n",
              "      <th>1</th>\n",
              "      <td>39.056951</td>\n",
              "      <td>10.060991</td>\n",
              "      <td>25.015378</td>\n",
              "      <td>28.995960</td>\n",
              "      <td>114.405425</td>\n",
              "      <td>4.564259</td>\n",
              "      <td>0.415186</td>\n",
              "      <td>12.8874</td>\n",
              "      <td>17.5323</td>\n",
              "      <td>16.78486</td>\n",
              "      <td>-25.530607</td>\n",
              "      <td>16.1102</td>\n",
              "      <td>Abnormal</td>\n",
              "      <td>NaN</td>\n",
              "    </tr>\n",
              "    <tr>\n",
              "      <th>2</th>\n",
              "      <td>68.832021</td>\n",
              "      <td>22.218482</td>\n",
              "      <td>50.092194</td>\n",
              "      <td>46.613539</td>\n",
              "      <td>105.985135</td>\n",
              "      <td>-3.530317</td>\n",
              "      <td>0.474889</td>\n",
              "      <td>26.8343</td>\n",
              "      <td>17.4861</td>\n",
              "      <td>16.65897</td>\n",
              "      <td>-29.031888</td>\n",
              "      <td>19.2221</td>\n",
              "      <td>Abnormal</td>\n",
              "      <td>Prediction is done by using binary classificat...</td>\n",
              "    </tr>\n",
              "    <tr>\n",
              "      <th>3</th>\n",
              "      <td>69.297008</td>\n",
              "      <td>24.652878</td>\n",
              "      <td>44.311238</td>\n",
              "      <td>44.644130</td>\n",
              "      <td>101.868495</td>\n",
              "      <td>11.211523</td>\n",
              "      <td>0.369345</td>\n",
              "      <td>23.5603</td>\n",
              "      <td>12.7074</td>\n",
              "      <td>11.42447</td>\n",
              "      <td>-30.470246</td>\n",
              "      <td>18.8329</td>\n",
              "      <td>Abnormal</td>\n",
              "      <td>NaN</td>\n",
              "    </tr>\n",
              "    <tr>\n",
              "      <th>4</th>\n",
              "      <td>49.712859</td>\n",
              "      <td>9.652075</td>\n",
              "      <td>28.317406</td>\n",
              "      <td>40.060784</td>\n",
              "      <td>108.168725</td>\n",
              "      <td>7.918501</td>\n",
              "      <td>0.543360</td>\n",
              "      <td>35.4940</td>\n",
              "      <td>15.9546</td>\n",
              "      <td>8.87237</td>\n",
              "      <td>-16.378376</td>\n",
              "      <td>24.9171</td>\n",
              "      <td>Abnormal</td>\n",
              "      <td>NaN</td>\n",
              "    </tr>\n",
              "  </tbody>\n",
              "</table>\n",
              "</div>"
            ],
            "text/plain": [
              "        Col1  ...                                        Unnamed: 13\n",
              "0  63.027818  ...                                                NaN\n",
              "1  39.056951  ...                                                NaN\n",
              "2  68.832021  ...  Prediction is done by using binary classificat...\n",
              "3  69.297008  ...                                                NaN\n",
              "4  49.712859  ...                                                NaN\n",
              "\n",
              "[5 rows x 14 columns]"
            ]
          },
          "metadata": {
            "tags": []
          },
          "execution_count": 3
        }
      ]
    },
    {
      "cell_type": "code",
      "metadata": {
        "id": "q_W4Yaj_jKrM",
        "colab_type": "code",
        "colab": {
          "base_uri": "https://localhost:8080/",
          "height": 34
        },
        "outputId": "1bd90ed8-7cb8-4adc-853b-7264400bca9c"
      },
      "source": [
        "df.shape"
      ],
      "execution_count": null,
      "outputs": [
        {
          "output_type": "execute_result",
          "data": {
            "text/plain": [
              "(310, 14)"
            ]
          },
          "metadata": {
            "tags": []
          },
          "execution_count": 4
        }
      ]
    },
    {
      "cell_type": "code",
      "metadata": {
        "id": "2LwwXjWwjW2R",
        "colab_type": "code",
        "colab": {
          "base_uri": "https://localhost:8080/",
          "height": 269
        },
        "outputId": "90f188e1-73a4-4c76-dab8-acc6b575fee6"
      },
      "source": [
        "df.isna().sum()"
      ],
      "execution_count": null,
      "outputs": [
        {
          "output_type": "execute_result",
          "data": {
            "text/plain": [
              "Col1             0\n",
              "Col2             0\n",
              "Col3             0\n",
              "Col4             0\n",
              "Col5             0\n",
              "Col6             0\n",
              "Col7             0\n",
              "Col8             0\n",
              "Col9             0\n",
              "Col10            0\n",
              "Col11            0\n",
              "Col12            0\n",
              "Class_att        0\n",
              "Unnamed: 13    296\n",
              "dtype: int64"
            ]
          },
          "metadata": {
            "tags": []
          },
          "execution_count": 5
        }
      ]
    },
    {
      "cell_type": "code",
      "metadata": {
        "id": "n5v4jnFCjbiq",
        "colab_type": "code",
        "colab": {
          "base_uri": "https://localhost:8080/",
          "height": 195
        },
        "outputId": "f7d496dc-a21e-472a-f23a-fcb427f03620"
      },
      "source": [
        "df.drop(df.columns[len(df.columns)-1], axis=1, inplace=True)\n",
        "df.head()"
      ],
      "execution_count": null,
      "outputs": [
        {
          "output_type": "execute_result",
          "data": {
            "text/html": [
              "<div>\n",
              "<style scoped>\n",
              "    .dataframe tbody tr th:only-of-type {\n",
              "        vertical-align: middle;\n",
              "    }\n",
              "\n",
              "    .dataframe tbody tr th {\n",
              "        vertical-align: top;\n",
              "    }\n",
              "\n",
              "    .dataframe thead th {\n",
              "        text-align: right;\n",
              "    }\n",
              "</style>\n",
              "<table border=\"1\" class=\"dataframe\">\n",
              "  <thead>\n",
              "    <tr style=\"text-align: right;\">\n",
              "      <th></th>\n",
              "      <th>Col1</th>\n",
              "      <th>Col2</th>\n",
              "      <th>Col3</th>\n",
              "      <th>Col4</th>\n",
              "      <th>Col5</th>\n",
              "      <th>Col6</th>\n",
              "      <th>Col7</th>\n",
              "      <th>Col8</th>\n",
              "      <th>Col9</th>\n",
              "      <th>Col10</th>\n",
              "      <th>Col11</th>\n",
              "      <th>Col12</th>\n",
              "      <th>Class_att</th>\n",
              "    </tr>\n",
              "  </thead>\n",
              "  <tbody>\n",
              "    <tr>\n",
              "      <th>0</th>\n",
              "      <td>63.027818</td>\n",
              "      <td>22.552586</td>\n",
              "      <td>39.609117</td>\n",
              "      <td>40.475232</td>\n",
              "      <td>98.672917</td>\n",
              "      <td>-0.254400</td>\n",
              "      <td>0.744503</td>\n",
              "      <td>12.5661</td>\n",
              "      <td>14.5386</td>\n",
              "      <td>15.30468</td>\n",
              "      <td>-28.658501</td>\n",
              "      <td>43.5123</td>\n",
              "      <td>Abnormal</td>\n",
              "    </tr>\n",
              "    <tr>\n",
              "      <th>1</th>\n",
              "      <td>39.056951</td>\n",
              "      <td>10.060991</td>\n",
              "      <td>25.015378</td>\n",
              "      <td>28.995960</td>\n",
              "      <td>114.405425</td>\n",
              "      <td>4.564259</td>\n",
              "      <td>0.415186</td>\n",
              "      <td>12.8874</td>\n",
              "      <td>17.5323</td>\n",
              "      <td>16.78486</td>\n",
              "      <td>-25.530607</td>\n",
              "      <td>16.1102</td>\n",
              "      <td>Abnormal</td>\n",
              "    </tr>\n",
              "    <tr>\n",
              "      <th>2</th>\n",
              "      <td>68.832021</td>\n",
              "      <td>22.218482</td>\n",
              "      <td>50.092194</td>\n",
              "      <td>46.613539</td>\n",
              "      <td>105.985135</td>\n",
              "      <td>-3.530317</td>\n",
              "      <td>0.474889</td>\n",
              "      <td>26.8343</td>\n",
              "      <td>17.4861</td>\n",
              "      <td>16.65897</td>\n",
              "      <td>-29.031888</td>\n",
              "      <td>19.2221</td>\n",
              "      <td>Abnormal</td>\n",
              "    </tr>\n",
              "    <tr>\n",
              "      <th>3</th>\n",
              "      <td>69.297008</td>\n",
              "      <td>24.652878</td>\n",
              "      <td>44.311238</td>\n",
              "      <td>44.644130</td>\n",
              "      <td>101.868495</td>\n",
              "      <td>11.211523</td>\n",
              "      <td>0.369345</td>\n",
              "      <td>23.5603</td>\n",
              "      <td>12.7074</td>\n",
              "      <td>11.42447</td>\n",
              "      <td>-30.470246</td>\n",
              "      <td>18.8329</td>\n",
              "      <td>Abnormal</td>\n",
              "    </tr>\n",
              "    <tr>\n",
              "      <th>4</th>\n",
              "      <td>49.712859</td>\n",
              "      <td>9.652075</td>\n",
              "      <td>28.317406</td>\n",
              "      <td>40.060784</td>\n",
              "      <td>108.168725</td>\n",
              "      <td>7.918501</td>\n",
              "      <td>0.543360</td>\n",
              "      <td>35.4940</td>\n",
              "      <td>15.9546</td>\n",
              "      <td>8.87237</td>\n",
              "      <td>-16.378376</td>\n",
              "      <td>24.9171</td>\n",
              "      <td>Abnormal</td>\n",
              "    </tr>\n",
              "  </tbody>\n",
              "</table>\n",
              "</div>"
            ],
            "text/plain": [
              "        Col1       Col2       Col3  ...      Col11    Col12  Class_att\n",
              "0  63.027818  22.552586  39.609117  ... -28.658501  43.5123   Abnormal\n",
              "1  39.056951  10.060991  25.015378  ... -25.530607  16.1102   Abnormal\n",
              "2  68.832021  22.218482  50.092194  ... -29.031888  19.2221   Abnormal\n",
              "3  69.297008  24.652878  44.311238  ... -30.470246  18.8329   Abnormal\n",
              "4  49.712859   9.652075  28.317406  ... -16.378376  24.9171   Abnormal\n",
              "\n",
              "[5 rows x 13 columns]"
            ]
          },
          "metadata": {
            "tags": []
          },
          "execution_count": 8
        }
      ]
    },
    {
      "cell_type": "code",
      "metadata": {
        "id": "PeQSGn1hj88T",
        "colab_type": "code",
        "colab": {
          "base_uri": "https://localhost:8080/",
          "height": 34
        },
        "outputId": "cd524e2f-ee92-440b-d38b-49699eca3fee"
      },
      "source": [
        "df.shape"
      ],
      "execution_count": null,
      "outputs": [
        {
          "output_type": "execute_result",
          "data": {
            "text/plain": [
              "(310, 13)"
            ]
          },
          "metadata": {
            "tags": []
          },
          "execution_count": 9
        }
      ]
    },
    {
      "cell_type": "code",
      "metadata": {
        "id": "0MFPRkBKkW1I",
        "colab_type": "code",
        "colab": {
          "base_uri": "https://localhost:8080/",
          "height": 297
        },
        "outputId": "1f27b082-8c56-453c-c1eb-0fe7a6ecdbbe"
      },
      "source": [
        "sns.countplot(x = 'Class_att', data=df)"
      ],
      "execution_count": null,
      "outputs": [
        {
          "output_type": "execute_result",
          "data": {
            "text/plain": [
              "<matplotlib.axes._subplots.AxesSubplot at 0x7f586741c908>"
            ]
          },
          "metadata": {
            "tags": []
          },
          "execution_count": 10
        },
        {
          "output_type": "display_data",
          "data": {
            "image/png": "[encoded data removed]",
            "text/plain": [
              "<Figure size 432x288 with 1 Axes>"
            ]
          },
          "metadata": {
            "tags": [],
            "needs_background": "light"
          }
        }
      ]
    },
    {
      "cell_type": "code",
      "metadata": {
        "id": "l2-B-zhqkaX3",
        "colab_type": "code",
        "colab": {
          "base_uri": "https://localhost:8080/",
          "height": 195
        },
        "outputId": "c50d7df1-834d-4d17-9888-8fe4dad00592"
      },
      "source": [
        "df['Class_att'] = df['Class_att'].astype('category')\n",
        "encode_map = {\n",
        "    'Abnormal': 1,\n",
        "    'Normal': 0\n",
        "}\n",
        "\n",
        "df['Class_att'].replace(encode_map, inplace=True)\n",
        "df.head()"
      ],
      "execution_count": null,
      "outputs": [
        {
          "output_type": "execute_result",
          "data": {
            "text/html": [
              "<div>\n",
              "<style scoped>\n",
              "    .dataframe tbody tr th:only-of-type {\n",
              "        vertical-align: middle;\n",
              "    }\n",
              "\n",
              "    .dataframe tbody tr th {\n",
              "        vertical-align: top;\n",
              "    }\n",
              "\n",
              "    .dataframe thead th {\n",
              "        text-align: right;\n",
              "    }\n",
              "</style>\n",
              "<table border=\"1\" class=\"dataframe\">\n",
              "  <thead>\n",
              "    <tr style=\"text-align: right;\">\n",
              "      <th></th>\n",
              "      <th>Col1</th>\n",
              "      <th>Col2</th>\n",
              "      <th>Col3</th>\n",
              "      <th>Col4</th>\n",
              "      <th>Col5</th>\n",
              "      <th>Col6</th>\n",
              "      <th>Col7</th>\n",
              "      <th>Col8</th>\n",
              "      <th>Col9</th>\n",
              "      <th>Col10</th>\n",
              "      <th>Col11</th>\n",
              "      <th>Col12</th>\n",
              "      <th>Class_att</th>\n",
              "    </tr>\n",
              "  </thead>\n",
              "  <tbody>\n",
              "    <tr>\n",
              "      <th>0</th>\n",
              "      <td>63.027818</td>\n",
              "      <td>22.552586</td>\n",
              "      <td>39.609117</td>\n",
              "      <td>40.475232</td>\n",
              "      <td>98.672917</td>\n",
              "      <td>-0.254400</td>\n",
              "      <td>0.744503</td>\n",
              "      <td>12.5661</td>\n",
              "      <td>14.5386</td>\n",
              "      <td>15.30468</td>\n",
              "      <td>-28.658501</td>\n",
              "      <td>43.5123</td>\n",
              "      <td>1</td>\n",
              "    </tr>\n",
              "    <tr>\n",
              "      <th>1</th>\n",
              "      <td>39.056951</td>\n",
              "      <td>10.060991</td>\n",
              "      <td>25.015378</td>\n",
              "      <td>28.995960</td>\n",
              "      <td>114.405425</td>\n",
              "      <td>4.564259</td>\n",
              "      <td>0.415186</td>\n",
              "      <td>12.8874</td>\n",
              "      <td>17.5323</td>\n",
              "      <td>16.78486</td>\n",
              "      <td>-25.530607</td>\n",
              "      <td>16.1102</td>\n",
              "      <td>1</td>\n",
              "    </tr>\n",
              "    <tr>\n",
              "      <th>2</th>\n",
              "      <td>68.832021</td>\n",
              "      <td>22.218482</td>\n",
              "      <td>50.092194</td>\n",
              "      <td>46.613539</td>\n",
              "      <td>105.985135</td>\n",
              "      <td>-3.530317</td>\n",
              "      <td>0.474889</td>\n",
              "      <td>26.8343</td>\n",
              "      <td>17.4861</td>\n",
              "      <td>16.65897</td>\n",
              "      <td>-29.031888</td>\n",
              "      <td>19.2221</td>\n",
              "      <td>1</td>\n",
              "    </tr>\n",
              "    <tr>\n",
              "      <th>3</th>\n",
              "      <td>69.297008</td>\n",
              "      <td>24.652878</td>\n",
              "      <td>44.311238</td>\n",
              "      <td>44.644130</td>\n",
              "      <td>101.868495</td>\n",
              "      <td>11.211523</td>\n",
              "      <td>0.369345</td>\n",
              "      <td>23.5603</td>\n",
              "      <td>12.7074</td>\n",
              "      <td>11.42447</td>\n",
              "      <td>-30.470246</td>\n",
              "      <td>18.8329</td>\n",
              "      <td>1</td>\n",
              "    </tr>\n",
              "    <tr>\n",
              "      <th>4</th>\n",
              "      <td>49.712859</td>\n",
              "      <td>9.652075</td>\n",
              "      <td>28.317406</td>\n",
              "      <td>40.060784</td>\n",
              "      <td>108.168725</td>\n",
              "      <td>7.918501</td>\n",
              "      <td>0.543360</td>\n",
              "      <td>35.4940</td>\n",
              "      <td>15.9546</td>\n",
              "      <td>8.87237</td>\n",
              "      <td>-16.378376</td>\n",
              "      <td>24.9171</td>\n",
              "      <td>1</td>\n",
              "    </tr>\n",
              "  </tbody>\n",
              "</table>\n",
              "</div>"
            ],
            "text/plain": [
              "        Col1       Col2       Col3  ...      Col11    Col12  Class_att\n",
              "0  63.027818  22.552586  39.609117  ... -28.658501  43.5123          1\n",
              "1  39.056951  10.060991  25.015378  ... -25.530607  16.1102          1\n",
              "2  68.832021  22.218482  50.092194  ... -29.031888  19.2221          1\n",
              "3  69.297008  24.652878  44.311238  ... -30.470246  18.8329          1\n",
              "4  49.712859   9.652075  28.317406  ... -16.378376  24.9171          1\n",
              "\n",
              "[5 rows x 13 columns]"
            ]
          },
          "metadata": {
            "tags": []
          },
          "execution_count": 12
        }
      ]
    },
    {
      "cell_type": "code",
      "metadata": {
        "id": "bMOiHx17kwjH",
        "colab_type": "code",
        "colab": {}
      },
      "source": [
        "X = df.iloc[:, 0:-1]\n",
        "y = df.iloc[:, -1]"
      ],
      "execution_count": null,
      "outputs": []
    },
    {
      "cell_type": "code",
      "metadata": {
        "id": "ox9MP-zDlIr1",
        "colab_type": "code",
        "colab": {}
      },
      "source": [
        "X_train, X_test, y_train, y_test = train_test_split(X, y, test_size=0.33, random_state=69)"
      ],
      "execution_count": null,
      "outputs": []
    },
    {
      "cell_type": "code",
      "metadata": {
        "id": "tmddKILilMXT",
        "colab_type": "code",
        "colab": {}
      },
      "source": [
        "scaler = StandardScaler()\n",
        "X_train = scaler.fit_transform(X_train)\n",
        "X_test = scaler.fit_transform(X_test)"
      ],
      "execution_count": null,
      "outputs": []
    },
    {
      "cell_type": "code",
      "metadata": {
        "id": "jsfRHM6tlShA",
        "colab_type": "code",
        "colab": {}
      },
      "source": [
        "EPOCHS = 50\n",
        "BATCH_SIZE = 64\n",
        "LEARNING_RATE = 0.001"
      ],
      "execution_count": null,
      "outputs": []
    },
    {
      "cell_type": "code",
      "metadata": {
        "id": "ZOFzVikRlWCB",
        "colab_type": "code",
        "colab": {}
      },
      "source": [
        "## train data\n",
        "class trainData(Dataset):\n",
        "    def __init__(self, X_data, y_data):\n",
        "        self.X_data = X_data\n",
        "        self.y_data = y_data\n",
        "        \n",
        "    def __getitem__(self, index):\n",
        "        return self.X_data[index], self.y_data[index]\n",
        "        \n",
        "    def __len__ (self):\n",
        "        return len(self.X_data)\n",
        "      \n",
        "train_data = trainData(torch.FloatTensor(X_train), torch.FloatTensor(y_train))\n",
        "\n",
        "## test data    \n",
        "class testData(Dataset):\n",
        "    def __init__(self, X_data):\n",
        "        self.X_data = X_data\n",
        "        \n",
        "    def __getitem__(self, index):\n",
        "        return self.X_data[index]\n",
        "        \n",
        "    def __len__ (self):\n",
        "        return len(self.X_data)\n",
        "  \n",
        "test_data = testData(torch.FloatTensor(X_test))"
      ],
      "execution_count": null,
      "outputs": []
    },
    {
      "cell_type": "code",
      "metadata": {
        "id": "XIFuf6sylmdz",
        "colab_type": "code",
        "colab": {}
      },
      "source": [
        "train_loader = DataLoader(dataset=train_data, batch_size=BATCH_SIZE, shuffle=True)\n",
        "test_loader = DataLoader(dataset=test_data, batch_size=1)"
      ],
      "execution_count": null,
      "outputs": []
    },
    {
      "cell_type": "code",
      "metadata": {
        "id": "04pm9imXlu8j",
        "colab_type": "code",
        "colab": {}
      },
      "source": [
        "class binaryClassification(nn.Module):\n",
        "    def __init__(self):\n",
        "        super(binaryClassification, self).__init__()\n",
        "        # Number of input features is 12.\n",
        "        self.layer_1 = nn.Linear(12, 64) \n",
        "        self.layer_2 = nn.Linear(64, 64)\n",
        "        self.layer_out = nn.Linear(64, 1) \n",
        "        \n",
        "        self.relu = nn.ReLU()\n",
        "        self.dropout = nn.Dropout(p=0.1)\n",
        "        self.batchnorm1 = nn.BatchNorm1d(64)\n",
        "        self.batchnorm2 = nn.BatchNorm1d(64)\n",
        "        \n",
        "    def forward(self, inputs):\n",
        "        x = self.relu(self.layer_1(inputs))\n",
        "        x = self.batchnorm1(x)\n",
        "        x = self.relu(self.layer_2(x))\n",
        "        x = self.batchnorm2(x)\n",
        "        x = self.dropout(x)\n",
        "        x = self.layer_out(x)\n",
        "        \n",
        "        return x"
      ],
      "execution_count": null,
      "outputs": []
    },
    {
      "cell_type": "code",
      "metadata": {
        "id": "Vz9R-UjxlyFM",
        "colab_type": "code",
        "colab": {
          "base_uri": "https://localhost:8080/",
          "height": 34
        },
        "outputId": "0ee12af2-28fe-4b10-f6a8-6ee5cc9c8cbc"
      },
      "source": [
        "device = torch.device(\"cuda:0\" if torch.cuda.is_available() else \"cpu\")\n",
        "print(device)"
      ],
      "execution_count": null,
      "outputs": [
        {
          "output_type": "stream",
          "text": [
            "cpu\n"
          ],
          "name": "stdout"
        }
      ]
    },
    {
      "cell_type": "code",
      "metadata": {
        "id": "y9zY5nqcl3P_",
        "colab_type": "code",
        "colab": {
          "base_uri": "https://localhost:8080/",
          "height": 168
        },
        "outputId": "50d456b2-b253-42e7-8111-095c0be399a7"
      },
      "source": [
        "model = binaryClassification()\n",
        "model.to(device)\n",
        "print(model)\n",
        "criterion = nn.BCEWithLogitsLoss()\n",
        "optimizer = optim.Adam(model.parameters(), lr=LEARNING_RATE)"
      ],
      "execution_count": null,
      "outputs": [
        {
          "output_type": "stream",
          "text": [
            "binaryClassification(\n",
            "  (layer_1): Linear(in_features=12, out_features=64, bias=True)\n",
            "  (layer_2): Linear(in_features=64, out_features=64, bias=True)\n",
            "  (layer_out): Linear(in_features=64, out_features=1, bias=True)\n",
            "  (relu): ReLU()\n",
            "  (dropout): Dropout(p=0.1, inplace=False)\n",
            "  (batchnorm1): BatchNorm1d(64, eps=1e-05, momentum=0.1, affine=True, track_running_stats=True)\n",
            "  (batchnorm2): BatchNorm1d(64, eps=1e-05, momentum=0.1, affine=True, track_running_stats=True)\n",
            ")\n"
          ],
          "name": "stdout"
        }
      ]
    },
    {
      "cell_type": "code",
      "metadata": {
        "id": "X6566-Nal6Dt",
        "colab_type": "code",
        "colab": {}
      },
      "source": [
        "def binary_acc(y_pred, y_test):\n",
        "    y_pred_tag = torch.round(torch.sigmoid(y_pred))\n",
        "    correct_results_sum = (y_pred_tag == y_test).sum().float()\n",
        "    acc = correct_results_sum/y_test.shape[0]\n",
        "    acc = torch.round(acc * 100)\n",
        "    \n",
        "    return acc"
      ],
      "execution_count": null,
      "outputs": []
    },
    {
      "cell_type": "code",
      "metadata": {
        "id": "fFw4JLhxmCKR",
        "colab_type": "code",
        "colab": {
          "base_uri": "https://localhost:8080/",
          "height": 857
        },
        "outputId": "190bf3cf-0b25-4080-b828-068b0889cb06"
      },
      "source": [
        "model.train()\n",
        "for e in range(1, EPOCHS+1):\n",
        "    epoch_loss = 0\n",
        "    epoch_acc = 0\n",
        "    for X_batch, y_batch in train_loader:\n",
        "        X_batch, y_batch = X_batch.to(device), y_batch.to(device)\n",
        "        optimizer.zero_grad()\n",
        "        \n",
        "        y_pred = model(X_batch)\n",
        "        \n",
        "        loss = criterion(y_pred, y_batch.unsqueeze(1))\n",
        "        acc = binary_acc(y_pred, y_batch.unsqueeze(1))\n",
        "        \n",
        "        loss.backward()\n",
        "        optimizer.step()\n",
        "        \n",
        "        epoch_loss += loss.item()\n",
        "        epoch_acc += acc.item()\n",
        "        \n",
        "\n",
        "    print(f'Epoch {e+0:03}: | Loss: {epoch_loss/len(train_loader):.5f} | Acc: {epoch_acc/len(train_loader):.3f}')\n",
        "###################### OUTPUT #######"
      ],
      "execution_count": null,
      "outputs": [
        {
          "output_type": "stream",
          "text": [
            "Epoch 001: | Loss: 0.59009 | Acc: 66.250\n",
            "Epoch 002: | Loss: 0.52215 | Acc: 78.500\n",
            "Epoch 003: | Loss: 0.47683 | Acc: 80.000\n",
            "Epoch 004: | Loss: 0.43748 | Acc: 82.250\n",
            "Epoch 005: | Loss: 0.44583 | Acc: 81.000\n",
            "Epoch 006: | Loss: 0.44961 | Acc: 81.000\n",
            "Epoch 007: | Loss: 0.45065 | Acc: 79.750\n",
            "Epoch 008: | Loss: 0.36559 | Acc: 87.000\n",
            "Epoch 009: | Loss: 0.37937 | Acc: 82.000\n",
            "Epoch 010: | Loss: 0.38898 | Acc: 84.500\n",
            "Epoch 011: | Loss: 0.35282 | Acc: 87.750\n",
            "Epoch 012: | Loss: 0.37534 | Acc: 87.000\n",
            "Epoch 013: | Loss: 0.32219 | Acc: 89.250\n",
            "Epoch 014: | Loss: 0.33249 | Acc: 86.500\n",
            "Epoch 015: | Loss: 0.34821 | Acc: 86.500\n",
            "Epoch 016: | Loss: 0.29917 | Acc: 89.000\n",
            "Epoch 017: | Loss: 0.26996 | Acc: 87.750\n",
            "Epoch 018: | Loss: 0.27317 | Acc: 90.750\n",
            "Epoch 019: | Loss: 0.31002 | Acc: 88.500\n",
            "Epoch 020: | Loss: 0.25470 | Acc: 89.000\n",
            "Epoch 021: | Loss: 0.24610 | Acc: 93.250\n",
            "Epoch 022: | Loss: 0.23982 | Acc: 93.500\n",
            "Epoch 023: | Loss: 0.27154 | Acc: 91.750\n",
            "Epoch 024: | Loss: 0.22127 | Acc: 94.250\n",
            "Epoch 025: | Loss: 0.22508 | Acc: 91.500\n",
            "Epoch 026: | Loss: 0.24216 | Acc: 91.000\n",
            "Epoch 027: | Loss: 0.23054 | Acc: 93.500\n",
            "Epoch 028: | Loss: 0.30663 | Acc: 91.500\n",
            "Epoch 029: | Loss: 0.18442 | Acc: 96.750\n",
            "Epoch 030: | Loss: 0.17239 | Acc: 96.500\n",
            "Epoch 031: | Loss: 0.15182 | Acc: 97.500\n",
            "Epoch 032: | Loss: 0.19992 | Acc: 91.750\n",
            "Epoch 033: | Loss: 0.13575 | Acc: 97.500\n",
            "Epoch 034: | Loss: 0.13390 | Acc: 96.000\n",
            "Epoch 035: | Loss: 0.18595 | Acc: 93.000\n",
            "Epoch 036: | Loss: 0.19285 | Acc: 93.250\n",
            "Epoch 037: | Loss: 0.16755 | Acc: 95.250\n",
            "Epoch 038: | Loss: 0.12777 | Acc: 96.750\n",
            "Epoch 039: | Loss: 0.13523 | Acc: 95.750\n",
            "Epoch 040: | Loss: 0.14480 | Acc: 95.500\n",
            "Epoch 041: | Loss: 0.09606 | Acc: 97.500\n",
            "Epoch 042: | Loss: 0.12530 | Acc: 96.500\n",
            "Epoch 043: | Loss: 0.10699 | Acc: 97.750\n",
            "Epoch 044: | Loss: 0.09934 | Acc: 98.250\n",
            "Epoch 045: | Loss: 0.09224 | Acc: 97.750\n",
            "Epoch 046: | Loss: 0.09518 | Acc: 97.000\n",
            "Epoch 047: | Loss: 0.08852 | Acc: 97.750\n",
            "Epoch 048: | Loss: 0.15521 | Acc: 93.250\n",
            "Epoch 049: | Loss: 0.14784 | Acc: 94.000\n",
            "Epoch 050: | Loss: 0.07721 | Acc: 99.000\n"
          ],
          "name": "stdout"
        }
      ]
    },
    {
      "cell_type": "code",
      "metadata": {
        "id": "iqAlYwEfmGTT",
        "colab_type": "code",
        "colab": {}
      },
      "source": [
        "y_pred_list = []\n",
        "model.eval()\n",
        "with torch.no_grad():\n",
        "    for X_batch in test_loader:\n",
        "        X_batch = X_batch.to(device)\n",
        "        y_test_pred = model(X_batch)\n",
        "        y_test_pred = torch.sigmoid(y_test_pred)\n",
        "        y_pred_tag = torch.round(y_test_pred)\n",
        "        y_pred_list.append(y_pred_tag.cpu().numpy())\n",
        "\n",
        "y_pred_list = [a.squeeze().tolist() for a in y_pred_list]"
      ],
      "execution_count": null,
      "outputs": []
    },
    {
      "cell_type": "code",
      "metadata": {
        "id": "79wvcmzUmQRG",
        "colab_type": "code",
        "colab": {
          "base_uri": "https://localhost:8080/",
          "height": 50
        },
        "outputId": "77349ae9-a56e-4b0c-ca19-86f88c3e7903"
      },
      "source": [
        "confusion_matrix(y_test, y_pred_list)"
      ],
      "execution_count": null,
      "outputs": [
        {
          "output_type": "execute_result",
          "data": {
            "text/plain": [
              "array([[24,  7],\n",
              "       [18, 54]])"
            ]
          },
          "metadata": {
            "tags": []
          },
          "execution_count": 26
        }
      ]
    },
    {
      "cell_type": "code",
      "metadata": {
        "id": "Cxzdv1rRmSgN",
        "colab_type": "code",
        "colab": {
          "base_uri": "https://localhost:8080/",
          "height": 168
        },
        "outputId": "e88b030a-336d-439e-c241-509010ea7c01"
      },
      "source": [
        "print(classification_report(y_test, y_pred_list))"
      ],
      "execution_count": null,
      "outputs": [
        {
          "output_type": "stream",
          "text": [
            "              precision    recall  f1-score   support\n",
            "\n",
            "           0       0.57      0.77      0.66        31\n",
            "           1       0.89      0.75      0.81        72\n",
            "\n",
            "    accuracy                           0.76       103\n",
            "   macro avg       0.73      0.76      0.73       103\n",
            "weighted avg       0.79      0.76      0.77       103\n",
            "\n"
          ],
          "name": "stdout"
        }
      ]
    },
    {
      "cell_type": "code",
      "metadata": {
        "id": "0iBAOPALmVpe",
        "colab_type": "code",
        "colab": {}
      },
      "source": [
        ""
      ],
      "execution_count": null,
      "outputs": []
    },
    {
      "cell_type": "code",
      "metadata": {
        "id": "5HGXRt6z8O88",
        "colab_type": "code",
        "colab": {}
      },
      "source": [
        ""
      ],
      "execution_count": null,
      "outputs": []
    }
  ]
}